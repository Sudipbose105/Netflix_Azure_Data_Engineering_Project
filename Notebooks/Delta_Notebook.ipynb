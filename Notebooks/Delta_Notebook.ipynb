{
 "cells": [
  {
   "cell_type": "markdown",
   "metadata": {
    "application/vnd.databricks.v1+cell": {
     "cellMetadata": {},
     "inputWidgets": {},
     "nuid": "9deebf20-9dbd-4571-9943-ee907c5cfc4b",
     "showTitle": false,
     "tableResultSettingsMap": {},
     "title": ""
    }
   },
   "source": [
    "###DLT Notebook - Gold Layer"
   ]
  },
  {
   "cell_type": "code",
   "execution_count": 0,
   "metadata": {
    "application/vnd.databricks.v1+cell": {
     "cellMetadata": {},
     "inputWidgets": {},
     "nuid": "e6ec73fe-4933-49ef-ae36-dcd1252a587e",
     "showTitle": false,
     "tableResultSettingsMap": {},
     "title": ""
    }
   },
   "outputs": [],
   "source": [
    "import dlt"
   ]
  },
  {
   "cell_type": "code",
   "execution_count": 0,
   "metadata": {
    "application/vnd.databricks.v1+cell": {
     "cellMetadata": {},
     "inputWidgets": {},
     "nuid": "9e706f59-4f73-41c2-a402-f80a27bdea0b",
     "showTitle": false,
     "tableResultSettingsMap": {},
     "title": ""
    }
   },
   "outputs": [],
   "source": [
    "looktable_rules={\n",
    "    \"rule1\":\"showid is NOT NULL\"\n",
    "}"
   ]
  },
  {
   "cell_type": "code",
   "execution_count": 0,
   "metadata": {
    "application/vnd.databricks.v1+cell": {
     "cellMetadata": {},
     "inputWidgets": {},
     "nuid": "f66520db-15d0-4547-948b-365d50b79cd7",
     "showTitle": false,
     "tableResultSettingsMap": {},
     "title": ""
    }
   },
   "outputs": [],
   "source": [
    "@dlt.table(\n",
    "    name=\"gold_netflix_directors\"\n",
    ")\n",
    "\n",
    "@dlt.expect_all_or_drop(looktable_rules)\n",
    "def myfunc():\n",
    "    df=spark.readStream.format(\"delta\").load(\"abfss://silver@storageadlssudipnetflix.dfs.windows.core.net/netflix_directors\")\n",
    "    return df"
   ]
  },
  {
   "cell_type": "code",
   "execution_count": 0,
   "metadata": {
    "application/vnd.databricks.v1+cell": {
     "cellMetadata": {},
     "inputWidgets": {},
     "nuid": "d873a190-878c-4170-a8e9-5b240efb0285",
     "showTitle": false,
     "tableResultSettingsMap": {},
     "title": ""
    }
   },
   "outputs": [],
   "source": [
    "@dlt.table(\n",
    "    name=\"gold_netflix_cast\"\n",
    ")\n",
    "\n",
    "@dlt.expect_all_or_drop(looktable_rules)\n",
    "def myfunc():\n",
    "    df=spark.readStream.format(\"delta\").load(\"abfss://silver@storageadlssudipnetflix.dfs.windows.core.net/netflix_cast\")\n",
    "    return df"
   ]
  },
  {
   "cell_type": "code",
   "execution_count": 0,
   "metadata": {
    "application/vnd.databricks.v1+cell": {
     "cellMetadata": {},
     "inputWidgets": {},
     "nuid": "caad11dd-b2be-4fea-98ff-2ea75ce48727",
     "showTitle": false,
     "tableResultSettingsMap": {},
     "title": ""
    }
   },
   "outputs": [],
   "source": [
    "@dlt.table(\n",
    "    name=\"gold_netflix_category\"\n",
    ")\n",
    "\n",
    "@dlt.expect_all_or_drop(looktable_rules)\n",
    "def myfunc():\n",
    "    df=spark.readStream.format(\"delta\").load(\"abfss://silver@storageadlssudipnetflix.dfs.windows.core.net/netflix_category\")\n",
    "    return df"
   ]
  },
  {
   "cell_type": "code",
   "execution_count": 0,
   "metadata": {
    "application/vnd.databricks.v1+cell": {
     "cellMetadata": {},
     "inputWidgets": {},
     "nuid": "05a179a7-eb95-4649-9206-ca2351c68a9a",
     "showTitle": false,
     "tableResultSettingsMap": {},
     "title": ""
    }
   },
   "outputs": [],
   "source": [
    "@dlt.table(\n",
    "    name=\"gold_netflix_countries\"\n",
    ")\n",
    "\n",
    "@dlt.expect_all_or_drop(looktable_rules)\n",
    "def myfunc():\n",
    "    df=spark.readStream.format(\"delta\").load(\"abfss://silver@storageadlssudipnetflix.dfs.windows.core.net/netflix_countries\")\n",
    "    return df"
   ]
  },
  {
   "cell_type": "code",
   "execution_count": 0,
   "metadata": {
    "application/vnd.databricks.v1+cell": {
     "cellMetadata": {},
     "inputWidgets": {},
     "nuid": "68337e33-81e9-4694-a150-7e4a528b5930",
     "showTitle": false,
     "tableResultSettingsMap": {},
     "title": ""
    }
   },
   "outputs": [],
   "source": [
    "masterdata_rule={\n",
    "    \"rule1\":\"showid is NOT NULL\"\n",
    "}"
   ]
  },
  {
   "cell_type": "code",
   "execution_count": 0,
   "metadata": {
    "application/vnd.databricks.v1+cell": {
     "cellMetadata": {},
     "inputWidgets": {},
     "nuid": "51eb6f59-fdfc-4173-b6b6-a606dc28f77d",
     "showTitle": false,
     "tableResultSettingsMap": {},
     "title": ""
    }
   },
   "outputs": [],
   "source": [
    "@dlt.table\n",
    "\n",
    "@dlt.expect_all_or_drop(masterdata_rule)\n",
    "def gold_netflix_titles:\n",
    "    df=spark.readStream.format(\"delta\").load(\"abfss://silver@storageadlssudipnetflix.dfs.windows.core.net/netflix_titles\")\n",
    "    return df"
   ]
  },
  {
   "cell_type": "code",
   "execution_count": 0,
   "metadata": {
    "application/vnd.databricks.v1+cell": {
     "cellMetadata": {},
     "inputWidgets": {},
     "nuid": "b5159700-41fb-46b6-ab34-598efde1ad11",
     "showTitle": false,
     "tableResultSettingsMap": {},
     "title": ""
    }
   },
   "outputs": [],
   "source": []
  }
 ],
 "metadata": {
  "application/vnd.databricks.v1+notebook": {
   "computePreferences": null,
   "dashboards": [],
   "environmentMetadata": {
    "base_environment": "",
    "environment_version": "2"
   },
   "inputWidgetPreferences": null,
   "language": "python",
   "notebookMetadata": {
    "pythonIndentUnit": 4
   },
   "notebookName": "Delta_Notebook",
   "widgets": {}
  },
  "language_info": {
   "name": "python"
  }
 },
 "nbformat": 4,
 "nbformat_minor": 0
}